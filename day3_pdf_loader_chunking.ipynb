{
 "cells": [
  {
   "cell_type": "code",
   "execution_count": 1,
   "id": "9e8c2a99",
   "metadata": {},
   "outputs": [],
   "source": [
    "from langchain.document_loaders import PyPDFLoader\n",
    "from langchain.text_splitter import RecursiveCharacterTextSplitter"
   ]
  },
  {
   "cell_type": "code",
   "execution_count": 3,
   "id": "f6422b08",
   "metadata": {},
   "outputs": [],
   "source": [
    "\n",
    "loader = PyPDFLoader('HR-Policy-Revised-JUNE-2022.pdf')\n",
    "pages = loader.load()\n"
   ]
  },
  {
   "cell_type": "code",
   "execution_count": 4,
   "id": "382e3bd9",
   "metadata": {},
   "outputs": [],
   "source": [
    "# Initialize text splitter\n",
    "text_splitter = RecursiveCharacterTextSplitter(\n",
    "    chunk_size=500,\n",
    "    chunk_overlap=100\n",
    ")"
   ]
  },
  {
   "cell_type": "code",
   "execution_count": 7,
   "id": "7d4ed3c7",
   "metadata": {},
   "outputs": [
    {
     "data": {
      "text/plain": [
       "'PASDEC  HR Policy (Last Revision: June 2022) \\n \\n2 \\n2nd Floor, Islamabad Chamber of Commerce & Industry Building, G/8-1, Islamabad. \\n Ph: 051-9263465-7, Fax No. 051-9263464 \\n \\n \\n \\nTable of Contents \\nSection #  Title               Page No.  \\n \\n1  Document Control      3 \\n2                   Changes in Policies Manual     4 \\n3  Definitions       5-6 \\n4   Vision &  Mission      7 \\n5    Culture and Values      8-9 \\n6     Employees Code Of Conduct     10 \\n7   Hiring Of Employees      11-15'"
      ]
     },
     "execution_count": 7,
     "metadata": {},
     "output_type": "execute_result"
    }
   ],
   "source": [
    "# Split each page into chunks\n",
    "all_chunks = []\n",
    "for page in pages:\n",
    "    chunks = text_splitter.split_text(page.page_content)\n",
    "    all_chunks.extend(chunks)\n",
    "\n",
    "all_chunks[1]"
   ]
  },
  {
   "cell_type": "code",
   "execution_count": 8,
   "id": "bd08090c",
   "metadata": {},
   "outputs": [
    {
     "name": "stdout",
     "output_type": "stream",
     "text": [
      "🔹 Total chunks created: 183\n",
      "\n",
      "Chunk 1:\n",
      "PASDEC                                                                                       Revised HR Policy \n",
      " \n",
      "1 \n",
      " \n",
      " \n",
      " \n",
      " \n",
      " \n",
      " \n",
      " \n",
      "HUMAN RESOURCE POLICY \n",
      "Pakistan Stone Development Company\n",
      "--------------------------------------------------\n",
      "Chunk 2:\n",
      "PASDEC  HR Policy (Last Revision: June 2022) \n",
      " \n",
      "2 \n",
      "2nd Floor, Islamabad Chamber of Commerce & Industry Building, G/8-1, Islamabad. \n",
      " Ph: 051-9263465-7, Fax No. 051-9263464 \n",
      " \n",
      " \n",
      " \n",
      "Table of Contents \n",
      "Section #  Title               Page No.  \n",
      " \n",
      "1  Document Control      3 \n",
      "2                   Changes in Policies Manual     4 \n",
      "3  Definitions       5-6 \n",
      "4   Vision &  Mission      7 \n",
      "5    Culture and Values      8-9 \n",
      "6     Employees Code Of Conduct     10 \n",
      "7   Hiring Of Employees      11-15\n",
      "--------------------------------------------------\n",
      "Chunk 3:\n",
      "6     Employees Code Of Conduct     10 \n",
      "7   Hiring Of Employees      11-15 \n",
      "8   Confidentiality Policy      16 \n",
      "9  Termination of Employment & Retirement    17-18 \n",
      "10   Leave Policy        19-20 \n",
      "11  Medical Policy & Insurance Policy     20 \n",
      "12   Entertainment Policy       20 \n",
      "13  Travel Policy                     21 \n",
      "14  Vehicle Policy        22 \n",
      "15  Pool Car Policy        22 \n",
      "16  Phone Policy                                                                     23\n",
      "--------------------------------------------------\n",
      "Chunk 4:\n",
      "16  Phone Policy                                                                     23 \n",
      "17  Visitor Policy                                                               23 \n",
      "18  Smoking Policy                                                            23 \n",
      "19   Gender Policy                                                                 23 \n",
      "20  Grievance Settlement Policy                                           24\n",
      "--------------------------------------------------\n",
      "Chunk 5:\n",
      "20  Grievance Settlement Policy                                           24 \n",
      "21  Conflict of Interest                                                          24 \n",
      "22  Increments                                                          24 \n",
      "23  Transfer & Postings      24-25 \n",
      "24  Promotion Policy       26-27 \n",
      "25  Harassment Policy                  28-29   \n",
      "26  Advance against Salary & Gratuity     30 \n",
      "27  Appellate Authority      30  \n",
      " \n",
      "ANNEXURES          31\n",
      "--------------------------------------------------\n"
     ]
    }
   ],
   "source": [
    "print(f\"🔹 Total chunks created: {len(all_chunks)}\\n\")\n",
    "for i, chunk in enumerate(all_chunks[:5]):\n",
    "    print(f\"Chunk {i+1}:\\n{chunk}\\n{'-'*50}\")"
   ]
  }
 ],
 "metadata": {
  "kernelspec": {
   "display_name": "venv",
   "language": "python",
   "name": "python3"
  },
  "language_info": {
   "codemirror_mode": {
    "name": "ipython",
    "version": 3
   },
   "file_extension": ".py",
   "mimetype": "text/x-python",
   "name": "python",
   "nbconvert_exporter": "python",
   "pygments_lexer": "ipython3",
   "version": "3.12.2"
  }
 },
 "nbformat": 4,
 "nbformat_minor": 5
}
