{
 "cells": [
  {
   "cell_type": "code",
   "execution_count": 7,
   "id": "1fdea241",
   "metadata": {},
   "outputs": [],
   "source": [
    "from langchain.document_loaders import PyPDFLoader\n",
    "from langchain.text_splitter import RecursiveCharacterTextSplitter\n",
    "from langchain.embeddings import HuggingFaceEmbeddings\n",
    "from langchain.vectorstores import Chroma"
   ]
  },
  {
   "cell_type": "markdown",
   "id": "b75837f1",
   "metadata": {},
   "source": [
    "## Loading PDF"
   ]
  },
  {
   "cell_type": "code",
   "execution_count": 2,
   "id": "778bed84",
   "metadata": {},
   "outputs": [],
   "source": [
    "loader = PyPDFLoader(\"HR-Policy-Revised-JUNE-2022.pdf\")\n",
    "pages = loader.load()"
   ]
  },
  {
   "cell_type": "markdown",
   "id": "2ab57068",
   "metadata": {},
   "source": [
    "## Splitting PDF into Chunks"
   ]
  },
  {
   "cell_type": "code",
   "execution_count": 3,
   "id": "9070be1e",
   "metadata": {},
   "outputs": [],
   "source": [
    "text_splitter = RecursiveCharacterTextSplitter(\n",
    "    chunk_size = 500,\n",
    "    chunk_overlap = 100\n",
    ") "
   ]
  },
  {
   "cell_type": "code",
   "execution_count": 5,
   "id": "ff4bc33e",
   "metadata": {},
   "outputs": [
    {
     "name": "stdout",
     "output_type": "stream",
     "text": [
      " Total Chunks Created: 183\n"
     ]
    }
   ],
   "source": [
    "all_chunks = []\n",
    "for page in pages:\n",
    "    chunk = text_splitter.split_text(page.page_content)\n",
    "    all_chunks.extend(chunk)\n",
    "\n",
    "print(f\" Total Chunks Created: {len(all_chunks)}\")"
   ]
  },
  {
   "cell_type": "markdown",
   "id": "14efb863",
   "metadata": {},
   "source": [
    "## Generating Embeddings"
   ]
  },
  {
   "cell_type": "code",
   "execution_count": 6,
   "id": "3b333b26",
   "metadata": {},
   "outputs": [
    {
     "name": "stderr",
     "output_type": "stream",
     "text": [
      "C:\\Users\\Syed Abdullah\\AppData\\Local\\Temp\\ipykernel_25784\\825980236.py:1: LangChainDeprecationWarning: The class `HuggingFaceEmbeddings` was deprecated in LangChain 0.2.2 and will be removed in 1.0. An updated version of the class exists in the :class:`~langchain-huggingface package and should be used instead. To use it run `pip install -U :class:`~langchain-huggingface` and import as `from :class:`~langchain_huggingface import HuggingFaceEmbeddings``.\n",
      "  embeddings = HuggingFaceEmbeddings(model_name=\"sentence-transformers/all-MiniLM-L6-v2\")\n",
      "d:\\Projects\\RAG\\ai-document-qa-chatbot\\venv\\Lib\\site-packages\\tqdm\\auto.py:21: TqdmWarning: IProgress not found. Please update jupyter and ipywidgets. See https://ipywidgets.readthedocs.io/en/stable/user_install.html\n",
      "  from .autonotebook import tqdm as notebook_tqdm\n"
     ]
    },
    {
     "data": {
      "text/plain": [
       "HuggingFaceEmbeddings(client=SentenceTransformer(\n",
       "  (0): Transformer({'max_seq_length': 256, 'do_lower_case': False}) with Transformer model: BertModel \n",
       "  (1): Pooling({'word_embedding_dimension': 384, 'pooling_mode_cls_token': False, 'pooling_mode_mean_tokens': True, 'pooling_mode_max_tokens': False, 'pooling_mode_mean_sqrt_len_tokens': False, 'pooling_mode_weightedmean_tokens': False, 'pooling_mode_lasttoken': False, 'include_prompt': True})\n",
       "  (2): Normalize()\n",
       "), model_name='sentence-transformers/all-MiniLM-L6-v2', cache_folder=None, model_kwargs={}, encode_kwargs={}, multi_process=False, show_progress=False)"
      ]
     },
     "execution_count": 6,
     "metadata": {},
     "output_type": "execute_result"
    }
   ],
   "source": [
    "embeddings = HuggingFaceEmbeddings(model_name=\"sentence-transformers/all-MiniLM-L6-v2\")\n",
    "embeddings"
   ]
  },
  {
   "cell_type": "markdown",
   "id": "d2b8fc7f",
   "metadata": {},
   "source": [
    "## Store Chunks in VectorStore"
   ]
  },
  {
   "cell_type": "code",
   "execution_count": 10,
   "id": "58d94013",
   "metadata": {},
   "outputs": [
    {
     "name": "stderr",
     "output_type": "stream",
     "text": [
      "Failed to send telemetry event ClientStartEvent: capture() takes 1 positional argument but 3 were given\n",
      "Failed to send telemetry event ClientCreateCollectionEvent: capture() takes 1 positional argument but 3 were given\n"
     ]
    }
   ],
   "source": [
    "vectorstore = Chroma.from_texts(all_chunks, embedding=embeddings, persist_directory=\"./chroma_db\")"
   ]
  },
  {
   "cell_type": "markdown",
   "id": "1ae78afd",
   "metadata": {},
   "source": [
    "## Persisting Database"
   ]
  },
  {
   "cell_type": "code",
   "execution_count": 11,
   "id": "6ef4506e",
   "metadata": {},
   "outputs": [
    {
     "name": "stderr",
     "output_type": "stream",
     "text": [
      "C:\\Users\\Syed Abdullah\\AppData\\Local\\Temp\\ipykernel_25784\\398866168.py:1: LangChainDeprecationWarning: Since Chroma 0.4.x the manual persistence method is no longer supported as docs are automatically persisted.\n",
      "  vectorstore.persist()\n"
     ]
    }
   ],
   "source": [
    "vectorstore.persist()"
   ]
  },
  {
   "cell_type": "code",
   "execution_count": 15,
   "id": "7e42c1de",
   "metadata": {},
   "outputs": [
    {
     "name": "stdout",
     "output_type": "stream",
     "text": [
      "\n",
      "🔹 Similarity Search Results:\n",
      "Department:     _______________        \n",
      " Casual \n",
      "  \n",
      " \n",
      " \n",
      "No of Leaves:  _______________        From:                  __________    to    __________   \n",
      " \n",
      " \n",
      "Reasons:      \n",
      "                        \n",
      " \n",
      "                        \n",
      " \n",
      "                        \n",
      " \n",
      " \n",
      "Contact No During Leave:    ____________________________        \n",
      "    \n",
      " \n",
      " \n",
      "Current Leave Balance Available: \n",
      "                         \n",
      "                 _____________________      _____________________\n",
      "[Annexure IX]. One day casual leave will be charged against four short leaves in a \n",
      "month. Similarly, two half day leaves in a month will be charged as one day \n",
      "casual leave in a month.  \n",
      " \n",
      "In case any employee fails to submit his/her appro ved short/half/day leave, as \n",
      "required above, his salary of that day will be withheld.  \n",
      "3)  Late Arrival; One day salary/wage will be deducted on three consecutive late \n",
      "arrivals of an employee without approved short/half/ -leave thereof.. Further,\n",
      "PASDEC  HR Policy (Last Revision: June 2022) \n",
      " \n",
      "13 \n",
      "2nd Floor, Islamabad Chamber of Commerce & Industry Building, G/8-1, Islamabad. \n",
      " Ph: 051-9263465-7, Fax No. 051-9263464 \n",
      " \n",
      " \n",
      "while half day leave can be granted for time span up to three and half (3.5) hours. \n",
      "Full day leave will be submitted for time more than    three a nd half (3.5) hours \n",
      "[Annexure IX]. One day casual leave will be charged against four short leaves in a\n",
      "avail 12 days Annual Leave in a year.  At time of  leaving the job, retirement, resignation, \n",
      "death, contract conclusion termination  other than due to misconduct, accumulated  earned \n",
      "leaves will be encashed with maximum ceiling of 48 days in service tenure. \n",
      " \n",
      " 10.4    SICK LEAVE \n",
      " \n",
      " Paid sick leave is made available to meet genuine cases of sickness. \n",
      " A maximum of 12 working days per year of paid sick leave may be taken. \n",
      " Sick leave cannot be ‘en-cashed’ or accumulated.\n",
      "Annual leave is provided to enable an employee to have a break from his /her work and in \n",
      "general it is expected that this leave will be taken in the year that it is due, that too in parts. \n",
      " \n",
      " The employees are entitled to a total of 24 working days paid annual leave per \n",
      "year. However to avail the leave, a permission must be solicited fr om the HoD or \n",
      "CEO, who may allow the employee to avail their leave in total or advise the \n",
      "employee to avail leave in parts.\n"
     ]
    }
   ],
   "source": [
    "query = \"How many free leaves ?\"\n",
    "results = vectorstore.similarity_search(query, k=5)\n",
    "\n",
    "print(\"\\n🔹 Similarity Search Results:\")\n",
    "for r in results:\n",
    "    print(r.page_content)"
   ]
  }
 ],
 "metadata": {
  "kernelspec": {
   "display_name": "venv",
   "language": "python",
   "name": "python3"
  },
  "language_info": {
   "codemirror_mode": {
    "name": "ipython",
    "version": 3
   },
   "file_extension": ".py",
   "mimetype": "text/x-python",
   "name": "python",
   "nbconvert_exporter": "python",
   "pygments_lexer": "ipython3",
   "version": "3.12.2"
  }
 },
 "nbformat": 4,
 "nbformat_minor": 5
}
