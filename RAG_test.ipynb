{
 "cells": [
  {
   "cell_type": "code",
   "execution_count": 24,
   "id": "2d5f2076",
   "metadata": {},
   "outputs": [],
   "source": [
    "from langchain.text_splitter import RecursiveCharacterTextSplitter\n",
    "from langchain.embeddings import HuggingFaceEmbeddings\n",
    "from langchain.vectorstores import Chroma"
   ]
  },
  {
   "cell_type": "code",
   "execution_count": 25,
   "id": "c190018b",
   "metadata": {},
   "outputs": [],
   "source": [
    "texts= [\n",
    "    \"The company offers 20 paid leaves annually.\",\n",
    "    \"Maternity leave is 12 weeks as per company policy.\",\n",
    "    \"Employee must submit leave application 2 weeks in advance.\"\n",
    "]"
   ]
  },
  {
   "cell_type": "code",
   "execution_count": 26,
   "id": "e4b2d059",
   "metadata": {},
   "outputs": [],
   "source": [
    "text_splitter = RecursiveCharacterTextSplitter(\n",
    "    chunk_size = 100,\n",
    "    chunk_overlap = 20\n",
    ")"
   ]
  },
  {
   "cell_type": "code",
   "execution_count": 27,
   "id": "b80d737a",
   "metadata": {},
   "outputs": [
    {
     "name": "stdout",
     "output_type": "stream",
     "text": [
      "@ Split Chunks:\n",
      "['The company offers 20 paid leaves annually. Maternity leave is 12 weeks as per company policy.', 'per company policy. Employee must submit leave application 2 weeks in advance.']\n"
     ]
    }
   ],
   "source": [
    "split_docs = text_splitter.split_text(\" \".join(texts))\n",
    "print(f\"@ Split Chunks:\\n{split_docs}\")"
   ]
  },
  {
   "cell_type": "code",
   "execution_count": 31,
   "id": "30ebe5ce",
   "metadata": {},
   "outputs": [
    {
     "name": "stdout",
     "output_type": "stream",
     "text": [
      "🔍 Split Docs:\n",
      "1. The company offers 20 paid leaves annually. Maternity leave is 12 weeks as per company policy.\n",
      "2. per company policy. Employee must submit leave application 2 weeks in advance.\n"
     ]
    }
   ],
   "source": [
    "print(\"🔍 Split Docs:\")\n",
    "for idx, chunk in enumerate(split_docs):\n",
    "    print(f\"{idx+1}. {chunk}\")"
   ]
  },
  {
   "cell_type": "code",
   "execution_count": 32,
   "id": "1edffb5a",
   "metadata": {},
   "outputs": [
    {
     "name": "stdout",
     "output_type": "stream",
     "text": [
      "🔹 Sample embedding vector length: 384\n"
     ]
    }
   ],
   "source": [
    "sample_embedding = embeddings.embed_query(\"test sentence\")\n",
    "print(f\"🔹 Sample embedding vector length: {len(sample_embedding)}\")"
   ]
  },
  {
   "cell_type": "code",
   "execution_count": 28,
   "id": "9d78e609",
   "metadata": {},
   "outputs": [],
   "source": [
    "embeddings = HuggingFaceEmbeddings(model_name=\"sentence-transformers/all-MiniLM-L6-v2\")\n"
   ]
  },
  {
   "cell_type": "code",
   "execution_count": 29,
   "id": "cf3eda03",
   "metadata": {},
   "outputs": [
    {
     "name": "stderr",
     "output_type": "stream",
     "text": [
      "Failed to send telemetry event ClientStartEvent: capture() takes 1 positional argument but 3 were given\n",
      "Failed to send telemetry event ClientCreateCollectionEvent: capture() takes 1 positional argument but 3 were given\n"
     ]
    }
   ],
   "source": [
    "# Step 3. Store in ChromaDB vector store\n",
    "vectorstore = Chroma.from_texts(split_docs, embedding=embeddings)"
   ]
  },
  {
   "cell_type": "code",
   "execution_count": 30,
   "id": "bdb40f12",
   "metadata": {},
   "outputs": [
    {
     "name": "stdout",
     "output_type": "stream",
     "text": [
      "\n",
      "🔹 Similarity Search Result:\n",
      "The company offers 20 paid leaves annually. Maternity leave is 12 weeks as per company policy.\n",
      "The company offers 20 paid leaves annually. Maternity leave is 12 weeks as per company policy.\n"
     ]
    }
   ],
   "source": [
    "query = \"what to do to get the leaves?\"\n",
    "results = vectorstore.similarity_search(query, k=2)\n",
    "print(\"\\n🔹 Similarity Search Result:\")\n",
    "for r in results:\n",
    "    print(r.page_content)"
   ]
  },
  {
   "cell_type": "code",
   "execution_count": 39,
   "id": "2c590b83",
   "metadata": {},
   "outputs": [
    {
     "name": "stderr",
     "output_type": "stream",
     "text": [
      "Failed to send telemetry event ClientStartEvent: capture() takes 1 positional argument but 3 were given\n",
      "Failed to send telemetry event ClientCreateCollectionEvent: capture() takes 1 positional argument but 3 were given\n"
     ]
    },
    {
     "name": "stdout",
     "output_type": "stream",
     "text": [
      "\n",
      "🔹 Similarity Search Results:\n",
      "The company offers 20 paid leaves annually.\n",
      "The company offers 20 paid leaves annually.\n",
      "The company offers 20 paid leaves annually.\n",
      "The company offers 20 paid leaves annually.\n",
      "The company offers 20 paid leaves annually.\n",
      "The company offers 20 paid leaves annually.\n",
      "The company offers 20 paid leaves annually. Maternity leave is 12 weeks as per company policy.\n",
      "The company offers 20 paid leaves annually. Maternity leave is 12 weeks as per company policy.\n",
      "The company offers 20 paid leaves annually. Maternity leave is 12 weeks as per company policy.\n",
      "The company offers 20 paid leaves annually. Maternity leave is 12 weeks as per company policy.\n"
     ]
    }
   ],
   "source": [
    "vectorstore = Chroma.from_texts(texts, embedding=embeddings)\n",
    "\n",
    "query = \"What about meternity leaves ?\"\n",
    "results = vectorstore.similarity_search(query, k=10)\n",
    "print(\"\\n🔹 Similarity Search Results:\")\n",
    "for r in results:\n",
    "    print(r.page_content)"
   ]
  },
  {
   "cell_type": "code",
   "execution_count": 43,
   "id": "d61cd6ee",
   "metadata": {},
   "outputs": [
    {
     "name": "stderr",
     "output_type": "stream",
     "text": [
      "Failed to send telemetry event ClientStartEvent: capture() takes 1 positional argument but 3 were given\n",
      "Failed to send telemetry event ClientCreateCollectionEvent: capture() takes 1 positional argument but 3 were given\n"
     ]
    },
    {
     "name": "stdout",
     "output_type": "stream",
     "text": [
      "\n",
      "🔹 Similarity Search Results:\n",
      "The company offers 20 paid leaves annually.\n",
      "The company offers 20 paid leaves annually.\n"
     ]
    }
   ],
   "source": [
    "from langchain.embeddings import HuggingFaceEmbeddings\n",
    "from langchain.vectorstores import Chroma\n",
    "\n",
    "texts = [\n",
    "    \"The company offers 20 paid leaves annually.\",\n",
    "    \"Maternity leave is 12 weeks as per company policy.\",\n",
    "    \"Employees must submit leave applications 2 weeks in advance.\"\n",
    "]\n",
    "\n",
    "embeddings = HuggingFaceEmbeddings(model_name=\"sentence-transformers/all-MiniLM-L6-v2\")\n",
    "\n",
    "vectorstore = Chroma.from_texts(texts, embedding=embeddings)\n",
    "\n",
    "query = \"How many paid leaves do employees get?\"\n",
    "results = vectorstore.similarity_search(query, k=2)\n",
    "\n",
    "print(\"\\n🔹 Similarity Search Results:\")\n",
    "for r in results:\n",
    "    print(r.page_content)\n"
   ]
  }
 ],
 "metadata": {
  "kernelspec": {
   "display_name": "venv",
   "language": "python",
   "name": "python3"
  },
  "language_info": {
   "codemirror_mode": {
    "name": "ipython",
    "version": 3
   },
   "file_extension": ".py",
   "mimetype": "text/x-python",
   "name": "python",
   "nbconvert_exporter": "python",
   "pygments_lexer": "ipython3",
   "version": "3.12.2"
  }
 },
 "nbformat": 4,
 "nbformat_minor": 5
}
