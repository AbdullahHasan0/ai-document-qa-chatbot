{
 "cells": [
  {
   "cell_type": "code",
   "execution_count": 1,
   "id": "9c45ef03",
   "metadata": {},
   "outputs": [],
   "source": [
    "import os\n",
    "os.environ[\"CHROMA_TELEMETRY\"] = \"False\""
   ]
  },
  {
   "cell_type": "code",
   "execution_count": 2,
   "id": "bf65b1f3",
   "metadata": {},
   "outputs": [],
   "source": [
    "from langchain.document_loaders import PyPDFLoader\n",
    "from langchain.text_splitter import RecursiveCharacterTextSplitter\n",
    "from langchain.embeddings import HuggingFaceEmbeddings\n",
    "from langchain.vectorstores import Chroma\n"
   ]
  },
  {
   "cell_type": "markdown",
   "id": "3e443d3a",
   "metadata": {},
   "source": [
    "## Loading PDF"
   ]
  },
  {
   "cell_type": "code",
   "execution_count": 3,
   "id": "4e87bab4",
   "metadata": {},
   "outputs": [],
   "source": [
    "loader = PyPDFLoader(\"HR-Policy-Revised-JUNE-2022.pdf\")\n",
    "pages = loader.load()"
   ]
  },
  {
   "cell_type": "markdown",
   "id": "0e8add72",
   "metadata": {},
   "source": [
    "## Splitting PDF into Chunks"
   ]
  },
  {
   "cell_type": "code",
   "execution_count": 4,
   "id": "6f41da35",
   "metadata": {},
   "outputs": [],
   "source": [
    "text_splitter = RecursiveCharacterTextSplitter(\n",
    "    chunk_size = 500,\n",
    "    chunk_overlap = 100\n",
    ") "
   ]
  },
  {
   "cell_type": "code",
   "execution_count": 5,
   "id": "b7b10524",
   "metadata": {},
   "outputs": [
    {
     "name": "stdout",
     "output_type": "stream",
     "text": [
      " Total Chunks Created: 183\n"
     ]
    }
   ],
   "source": [
    "all_chunks = []\n",
    "for page in pages:\n",
    "    chunk = text_splitter.split_text(page.page_content)\n",
    "    all_chunks.extend(chunk)\n",
    "\n",
    "print(f\" Total Chunks Created: {len(all_chunks)}\")"
   ]
  },
  {
   "cell_type": "markdown",
   "id": "466a920e",
   "metadata": {},
   "source": [
    "## Generating Embeddings"
   ]
  },
  {
   "cell_type": "code",
   "execution_count": 6,
   "id": "d97ff40d",
   "metadata": {},
   "outputs": [
    {
     "name": "stderr",
     "output_type": "stream",
     "text": [
      "C:\\Users\\Syed Abdullah\\AppData\\Local\\Temp\\ipykernel_13424\\825980236.py:1: LangChainDeprecationWarning: The class `HuggingFaceEmbeddings` was deprecated in LangChain 0.2.2 and will be removed in 1.0. An updated version of the class exists in the :class:`~langchain-huggingface package and should be used instead. To use it run `pip install -U :class:`~langchain-huggingface` and import as `from :class:`~langchain_huggingface import HuggingFaceEmbeddings``.\n",
      "  embeddings = HuggingFaceEmbeddings(model_name=\"sentence-transformers/all-MiniLM-L6-v2\")\n",
      "d:\\Projects\\RAG\\ai-document-qa-chatbot\\venv\\Lib\\site-packages\\tqdm\\auto.py:21: TqdmWarning: IProgress not found. Please update jupyter and ipywidgets. See https://ipywidgets.readthedocs.io/en/stable/user_install.html\n",
      "  from .autonotebook import tqdm as notebook_tqdm\n"
     ]
    },
    {
     "data": {
      "text/plain": [
       "HuggingFaceEmbeddings(client=SentenceTransformer(\n",
       "  (0): Transformer({'max_seq_length': 256, 'do_lower_case': False}) with Transformer model: BertModel \n",
       "  (1): Pooling({'word_embedding_dimension': 384, 'pooling_mode_cls_token': False, 'pooling_mode_mean_tokens': True, 'pooling_mode_max_tokens': False, 'pooling_mode_mean_sqrt_len_tokens': False, 'pooling_mode_weightedmean_tokens': False, 'pooling_mode_lasttoken': False, 'include_prompt': True})\n",
       "  (2): Normalize()\n",
       "), model_name='sentence-transformers/all-MiniLM-L6-v2', cache_folder=None, model_kwargs={}, encode_kwargs={}, multi_process=False, show_progress=False)"
      ]
     },
     "execution_count": 6,
     "metadata": {},
     "output_type": "execute_result"
    }
   ],
   "source": [
    "embeddings = HuggingFaceEmbeddings(model_name=\"sentence-transformers/all-MiniLM-L6-v2\")\n",
    "embeddings"
   ]
  },
  {
   "cell_type": "markdown",
   "id": "9c8579bb",
   "metadata": {},
   "source": [
    "## Store Chunks in VectorStore"
   ]
  },
  {
   "cell_type": "code",
   "execution_count": 7,
   "id": "fd3ddcf7",
   "metadata": {},
   "outputs": [
    {
     "name": "stderr",
     "output_type": "stream",
     "text": [
      "Failed to send telemetry event ClientStartEvent: capture() takes 1 positional argument but 3 were given\n",
      "Failed to send telemetry event ClientCreateCollectionEvent: capture() takes 1 positional argument but 3 were given\n"
     ]
    }
   ],
   "source": [
    "vectorstore = Chroma.from_texts(all_chunks, embedding=embeddings, persist_directory=\"./chroma_db\")"
   ]
  },
  {
   "cell_type": "markdown",
   "id": "edbe7ef0",
   "metadata": {},
   "source": [
    "## Persisting Database"
   ]
  },
  {
   "cell_type": "code",
   "execution_count": 8,
   "id": "c3293d4a",
   "metadata": {},
   "outputs": [
    {
     "name": "stderr",
     "output_type": "stream",
     "text": [
      "C:\\Users\\Syed Abdullah\\AppData\\Local\\Temp\\ipykernel_13424\\398866168.py:1: LangChainDeprecationWarning: Since Chroma 0.4.x the manual persistence method is no longer supported as docs are automatically persisted.\n",
      "  vectorstore.persist()\n"
     ]
    }
   ],
   "source": [
    "vectorstore.persist()"
   ]
  },
  {
   "cell_type": "code",
   "execution_count": 9,
   "id": "4bd9c330",
   "metadata": {},
   "outputs": [],
   "source": [
    "def retrieve_query(query, k=2):\n",
    "    results = vectorstore.similarity_search(query=query, k=k)\n",
    "    return [r.page_content for r in results]"
   ]
  },
  {
   "cell_type": "code",
   "execution_count": 10,
   "id": "a953280a",
   "metadata": {},
   "outputs": [],
   "source": [
    "# Test queries\n",
    "queries = [\n",
    "    \"What is the maternity leave policy?\",\n",
    "    \"How many paid leaves do employees get annually?\",\n",
    "    \"What is the procedure for leave application?\"\n",
    "]"
   ]
  },
  {
   "cell_type": "code",
   "execution_count": 11,
   "id": "f4f5aebd",
   "metadata": {},
   "outputs": [
    {
     "name": "stderr",
     "output_type": "stream",
     "text": [
      "Failed to send telemetry event CollectionQueryEvent: capture() takes 1 positional argument but 3 were given\n"
     ]
    },
    {
     "name": "stdout",
     "output_type": "stream",
     "text": [
      "\n",
      " Query: What is the maternity leave policy?\n",
      "answer: exceptional circumstances. \n",
      " \n",
      "10.7   MATERNITY LEAVE \n",
      " \n",
      " Leave of up to 12 weeks is allowed upon presentation of doctor’s report. Approving    \n",
      "authority is CEO.  \n",
      " \n",
      "10.8    SPECIAL/ ACCIDENTAL LEAVE \n",
      " \n",
      "Special /Accident Leave shall be admissible to the employees suffering from  T.B., Cancer, \n",
      "Paralysis, Mental illness, Cardiac disease, renal dise ases, other complicated/high risk \n",
      "diseases, surgery and serious accident, disabling injuries resulting in complete bed rest for\n",
      "answer: exceptional circumstances. \n",
      " \n",
      "10.7   MATERNITY LEAVE \n",
      " \n",
      " Leave of up to 12 weeks is allowed upon presentation of doctor’s report. Approving    \n",
      "authority is CEO.  \n",
      " \n",
      "10.8    SPECIAL/ ACCIDENTAL LEAVE \n",
      " \n",
      "Special /Accident Leave shall be admissible to the employees suffering from  T.B., Cancer, \n",
      "Paralysis, Mental illness, Cardiac disease, renal dise ases, other complicated/high risk \n",
      "diseases, surgery and serious accident, disabling injuries resulting in complete bed rest for\n",
      "\n",
      " Query: How many paid leaves do employees get annually?\n",
      "answer: Annual leave is provided to enable an employee to have a break from his /her work and in \n",
      "general it is expected that this leave will be taken in the year that it is due, that too in parts. \n",
      " \n",
      " The employees are entitled to a total of 24 working days paid annual leave per \n",
      "year. However to avail the leave, a permission must be solicited fr om the HoD or \n",
      "CEO, who may allow the employee to avail their leave in total or advise the \n",
      "employee to avail leave in parts.\n",
      "answer: Annual leave is provided to enable an employee to have a break from his /her work and in \n",
      "general it is expected that this leave will be taken in the year that it is due, that too in parts. \n",
      " \n",
      " The employees are entitled to a total of 24 working days paid annual leave per \n",
      "year. However to avail the leave, a permission must be solicited fr om the HoD or \n",
      "CEO, who may allow the employee to avail their leave in total or advise the \n",
      "employee to avail leave in parts.\n",
      "\n",
      " Query: What is the procedure for leave application?\n",
      "answer: DESIGNATION:                                                                                                                        ‘ \n",
      " \n",
      " \n",
      "DEPARTMENT:                                                                                                                          ‘ \n",
      " \n",
      " \n",
      "SHORT LEAVE OBTAINED FORM (TIME):    (__:__ hrs)          to         (__:__  hrs)  \n",
      "  \n",
      " \n",
      "REASON:\n",
      "answer: DESIGNATION:                                                                                                                        ‘ \n",
      " \n",
      " \n",
      "DEPARTMENT:                                                                                                                          ‘ \n",
      " \n",
      " \n",
      "SHORT LEAVE OBTAINED FORM (TIME):    (__:__ hrs)          to         (__:__  hrs)  \n",
      "  \n",
      " \n",
      "REASON:\n"
     ]
    }
   ],
   "source": [
    "for q in queries:\n",
    "    print(f\"\\n Query: {q}\")\n",
    "    answers = retrieve_query(q)\n",
    "    for ans in answers:\n",
    "        print(f\"answer: {ans}\")"
   ]
  }
 ],
 "metadata": {
  "kernelspec": {
   "display_name": "venv",
   "language": "python",
   "name": "python3"
  },
  "language_info": {
   "codemirror_mode": {
    "name": "ipython",
    "version": 3
   },
   "file_extension": ".py",
   "mimetype": "text/x-python",
   "name": "python",
   "nbconvert_exporter": "python",
   "pygments_lexer": "ipython3",
   "version": "3.12.2"
  }
 },
 "nbformat": 4,
 "nbformat_minor": 5
}
